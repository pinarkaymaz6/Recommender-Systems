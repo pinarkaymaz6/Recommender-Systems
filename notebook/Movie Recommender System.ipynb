{
 "cells": [
  {
   "cell_type": "markdown",
   "metadata": {},
   "source": [
    "## Movie Recommender System"
   ]
  },
  {
   "cell_type": "code",
   "execution_count": 1,
   "metadata": {},
   "outputs": [],
   "source": [
    "import numpy as np\n",
    "import pandas as pd\n",
    "import pickle"
   ]
  },
  {
   "cell_type": "markdown",
   "metadata": {},
   "source": [
    "### Load Data"
   ]
  },
  {
   "cell_type": "code",
   "execution_count": 2,
   "metadata": {},
   "outputs": [],
   "source": [
    "column_names = ['user_id', 'item_id', 'rating', 'timestamp']\n",
    "df = pd.read_csv('u.data', sep='\\t', names=column_names)\n",
    "\n",
    "movie_titles = pd.read_csv(\"Movie_Id_Titles\")\n",
    "\n",
    "df = pd.merge(df,movie_titles,on='item_id')"
   ]
  },
  {
   "cell_type": "markdown",
   "metadata": {},
   "source": [
    "### Create Movie Matrix"
   ]
  },
  {
   "cell_type": "code",
   "execution_count": 4,
   "metadata": {},
   "outputs": [],
   "source": [
    "moviemat = df.pivot_table(index='user_id',columns='title',values='rating')\n",
    "\n",
    "ratings = pd.DataFrame(df.groupby('title')['rating'].mean())\n",
    "ratings['num of ratings'] = pd.DataFrame(df.groupby('title')['rating'].count())\n",
    "\n",
    "moviemat.to_pickle(\"../recommender/movie_matrix.pkl\")\n",
    "ratings.to_pickle(\"../recommender/ratings.pkl\")"
   ]
  },
  {
   "cell_type": "markdown",
   "metadata": {},
   "source": [
    "### Inference"
   ]
  },
  {
   "cell_type": "code",
   "execution_count": null,
   "metadata": {},
   "outputs": [],
   "source": [
    "movie = 'Star Wars (1977)'\n",
    "\n",
    "moviemat = pd.read_pickle(\"movie_matrix.pkl\")\n",
    "ratings = pd.read_pickle(\"ratings.pkl\")\n",
    "\n",
    "user_ratings = moviemat[movie]\n",
    "similar_movies = moviemat.corrwith(user_ratings)\n",
    "corr = pd.DataFrame(similar_movies,columns=['Correlation'])\n",
    "corr.dropna(inplace=True)\n",
    "corr = corr.join(ratings['num of ratings'])\n",
    "\n",
    "\n",
    "recommend =corr[corr['num of ratings']>100].sort_values('Correlation',ascending=False)\n",
    "results = list(recommend.iloc[1:4].index)\n",
    "\n",
    "res"
   ]
  }
 ],
 "metadata": {
  "kernelspec": {
   "display_name": "Python 3",
   "language": "python",
   "name": "python3"
  },
  "language_info": {
   "codemirror_mode": {
    "name": "ipython",
    "version": 3
   },
   "file_extension": ".py",
   "mimetype": "text/x-python",
   "name": "python",
   "nbconvert_exporter": "python",
   "pygments_lexer": "ipython3",
   "version": "3.7.1"
  }
 },
 "nbformat": 4,
 "nbformat_minor": 2
}
